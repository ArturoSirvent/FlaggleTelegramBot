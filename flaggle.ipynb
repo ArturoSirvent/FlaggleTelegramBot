{
 "cells": [
  {
   "cell_type": "markdown",
   "id": "7ad53391",
   "metadata": {},
   "source": [
    "# TELEGRAM BOT (FLAGGLE)  \n",
    "\n",
    "Script by **Arturo Sirvent Fresneda**  \n",
    "date: _12 abril 2022_"
   ]
  },
  {
   "cell_type": "markdown",
   "id": "d2bc704d",
   "metadata": {},
   "source": [
    "Podriamos descargar automaticamente las banderas y los códigos en muchos idiomas con links:\n",
    " \n",
    "* https://flagpedia.net/download/api  \n",
    "* https://flagcdn.com/16x12/za.png   \n",
    "* https://flagcdn.com/en/codes.json  \n",
    "\n",
    "\n",
    "\n",
    "Otra buena idea sería hacerlo como el ahogado, donde tienes que ir adivinando."
   ]
  },
  {
   "cell_type": "code",
   "execution_count": 3,
   "id": "5dcf84bd",
   "metadata": {},
   "outputs": [],
   "source": [
    "import os \n",
    "import matplotlib.pyplot as plt \n",
    "import telebot \n",
    "import numpy as np \n",
    "import json\n",
    "import re\n",
    "import wikipedia as wk\n",
    "from telebot import types"
   ]
  },
  {
   "cell_type": "code",
   "execution_count": null,
   "id": "a9d0fada",
   "metadata": {},
   "outputs": [],
   "source": [
    "#cargamos los códigos\n",
    "with open(\"code_flags.json\") as fil:\n",
    "    codes=json.load(fil)\n",
    "    \n",
    "codes"
   ]
  },
  {
   "cell_type": "code",
   "execution_count": null,
   "id": "fe9bec1c",
   "metadata": {},
   "outputs": [],
   "source": [
    "#cargamos los nombres de las flags\n",
    "flags_dirs_aux=os.listdir(\"./flags/\")\n",
    "flags_dirs={re.findall(r\"(.+)\\.jpg\",i)[0]:i for i in flags_dirs_aux}\n",
    "\n",
    "#vamos a filtrar tambien aquellos con un nombre de mas de 2 palabras\n",
    "flags_dirs_complete={i:{\"file\":flags_dirs[i],\"name\":codes[i]} for i in flags_dirs if (len(codes[i].split(\" \"))<3)}\n",
    "flags_dirs_complete"
   ]
  },
  {
   "cell_type": "code",
   "execution_count": null,
   "id": "38973399",
   "metadata": {},
   "outputs": [],
   "source": [
    "# se escoge aleatoriamente de todas las que no tienen una barra intermedia\n",
    "pais_codes=list(flags_dirs.keys())\n",
    "random_list=[i for i in pais_codes if \"-\" not in i]\n",
    "\n",
    "pais_random=random_list[np.random.randint(0,len(random_list))]\n",
    "print(pais_random)\n",
    "\n",
    "#vamos a la lista completa y sacamos la bandera y el nombre\n",
    "print(flags_dirs_complete[pais_random])"
   ]
  },
  {
   "cell_type": "code",
   "execution_count": null,
   "id": "2be0e81b",
   "metadata": {},
   "outputs": [],
   "source": [
    "#solo nos queda la funcion de adivinación.\n",
    "name=flags_dirs_complete[pais_random][\"name\"]\n",
    "\n",
    "#el wordle nos dice: tiene tanta longitud, le ponemos una palabra y nos devuelve\n",
    "#verdes o amarillas segun sean, todo esto con emojis\n",
    "\n",
    "def resolver(palabra,guess):\n",
    "    aux=[True if i in palabra else False for i in guess]\n",
    "    return aux\n",
    "\n",
    "resolver(\"albania\",\"alemania\")"
   ]
  },
  {
   "cell_type": "markdown",
   "id": "893a332a",
   "metadata": {},
   "source": [
    "## Montamos el bot (temporal)\n",
    "\n"
   ]
  },
  {
   "cell_type": "code",
   "execution_count": null,
   "id": "335e5de1",
   "metadata": {},
   "outputs": [],
   "source": [
    "KEY=\n",
    "bot = telebot.TeleBot(KEY, parse_mode=None) # You can set parse_mode by default. HTML or MARKDOWN"
   ]
  },
  {
   "cell_type": "code",
   "execution_count": null,
   "id": "329feb4a",
   "metadata": {},
   "outputs": [],
   "source": [
    "\n",
    "\n",
    "markup = types.ReplyKeyboardMarkup()\n",
    "itembtna = types.KeyboardButton('a')\n",
    "itembtnv = types.KeyboardButton('v')\n",
    "itembtnc = types.KeyboardButton('c')\n",
    "itembtnd = types.KeyboardButton('d')\n",
    "itembtne = types.KeyboardButton('e')\n",
    "markup.row(itembtna, itembtnv)\n",
    "markup.row(itembtnc, itembtnd, itembtne)\n",
    "#bot.send_message(chat_id, \"Choose one letter:\", reply_markup=markup)\n",
    "\n",
    "\n",
    "\n",
    "def start_conversation(message_obj):\n",
    "    message=message_obj.text\n",
    "    message=message.lower()\n",
    "    if ((\"jugar\" in message) or (\"banderas\" in message) or (\"flagle\" in message) or (\"flaggle\" in message)):\n",
    "        return True\n",
    "    else:\n",
    "        return False\n",
    "\n",
    "@bot.message_handler(func=start_conversation)\n",
    "def send_welcome(message):\n",
    "    pais=random_list[np.random.randint(0,len(random_list))]\n",
    "    photo = open(f\"./flags/{flags_dirs_complete[pais]['file']}\", 'rb')\n",
    "    bot.send_photo(message.chat.id, photo)\n",
    "    photo.close()\n",
    "    bot.send_message(message.chat.id,wk.page(flags_dirs_complete[pais][\"name\"]).summary.split(\"\\n\")[0].replace(flags_dirs_complete[pais][\"name\"],\"_______\"))\n",
    "    bot.send_message(message.chat.id, \"Choose one letter:\", reply_markup=markup)\n",
    "    \n",
    "@bot.message_handler(commands=[\"start\"])\n",
    "def start(message):\n",
    "    bot.reply_to(message, \"Este es una bot para tal y cual\")\n",
    "    \n",
    "    \n",
    "\n",
    "\n"
   ]
  },
  {
   "cell_type": "code",
   "execution_count": null,
   "id": "347f80e1",
   "metadata": {},
   "outputs": [],
   "source": [
    "bot.polling()"
   ]
  },
  {
   "cell_type": "code",
   "execution_count": null,
   "id": "ffb775c2",
   "metadata": {},
   "outputs": [],
   "source": [
    "dir(bot)"
   ]
  },
  {
   "cell_type": "markdown",
   "id": "681ef60b",
   "metadata": {},
   "source": [
    "## Pruebas juego de wikipedia\n",
    "\n",
    "Al final usaremos wikipedia para el summary"
   ]
  },
  {
   "cell_type": "code",
   "execution_count": null,
   "id": "245bbb59",
   "metadata": {},
   "outputs": [],
   "source": [
    "dir(wk.wikipedia.suggest)"
   ]
  },
  {
   "cell_type": "code",
   "execution_count": null,
   "id": "9d5736e1",
   "metadata": {},
   "outputs": [],
   "source": [
    "wk.datetime(1234,2,1)"
   ]
  },
  {
   "cell_type": "code",
   "execution_count": null,
   "id": "f9d18323",
   "metadata": {},
   "outputs": [],
   "source": [
    "page=wk.random()\n",
    "page"
   ]
  },
  {
   "cell_type": "code",
   "execution_count": null,
   "id": "af56c8ee",
   "metadata": {},
   "outputs": [],
   "source": [
    "p=wk.page(\"Andorra\")"
   ]
  },
  {
   "cell_type": "code",
   "execution_count": null,
   "id": "b0ac6e16",
   "metadata": {},
   "outputs": [],
   "source": [
    "dir(p)"
   ]
  },
  {
   "cell_type": "code",
   "execution_count": null,
   "id": "2556dfda",
   "metadata": {},
   "outputs": [],
   "source": [
    "p.summary.replace(\"Andorra\",\"_______\")"
   ]
  },
  {
   "cell_type": "code",
   "execution_count": null,
   "id": "3df10abb",
   "metadata": {},
   "outputs": [],
   "source": [
    "wk.page(flags_dirs_complete[\"af\"][\"name\"]).summary"
   ]
  },
  {
   "cell_type": "markdown",
   "id": "4e827eaa",
   "metadata": {},
   "source": [
    "##  WorkFlow Final del BOT"
   ]
  },
  {
   "cell_type": "code",
   "execution_count": 4,
   "id": "e07ffa72",
   "metadata": {},
   "outputs": [],
   "source": [
    "#codigo preliminar para cargar las banderas, codigos y seleccionar solo paises completos (no colonias) \n",
    "#y para no seleccionar aquellos paises con página erronea de wikipedia.\n",
    "\n",
    "#cargamos los códigos\n",
    "with open(\"codigos_banderas.json\") as fil:\n",
    "    codes=json.load(fil)\n",
    "    \n",
    "#cargamos los nombres de las flags\n",
    "flags_dirs_aux=os.listdir(\"./flags/\")\n",
    "flags_dirs={re.findall(r\"(.+)\\.jpg\",i)[0]:i for i in flags_dirs_aux}\n",
    "\n",
    "#vamos a filtrar tambien aquellos con un nombre de mas de 2 palabras\n",
    "flags_dirs_complete={i:{\"file\":flags_dirs[i],\"name\":codes[i]} for i in flags_dirs if (len(codes[i].split(\" \"))<3)}\n",
    "\n",
    "\n",
    "# se escoge aleatoriamente de todas las que no tienen una barra intermedia y que tienen wikipedia\n",
    "pais_codes=list(flags_dirs_complete.keys())\n",
    "random_list=[i for i in pais_codes if \"-\" not in i]"
   ]
  },
  {
   "cell_type": "code",
   "execution_count": 5,
   "id": "702e3880",
   "metadata": {},
   "outputs": [
    {
     "name": "stderr",
     "output_type": "stream",
     "text": [
      "/home/arturo/anaconda3/envs/env1/lib/python3.8/site-packages/wikipedia/wikipedia.py:389: GuessedAtParserWarning: No parser was explicitly specified, so I'm using the best available HTML parser for this system (\"lxml\"). This usually isn't a problem, but if you run this code on another system, or in a different virtual environment, it may use a different parser and behave differently.\n",
      "\n",
      "The code that caused this warning is on line 389 of the file /home/arturo/anaconda3/envs/env1/lib/python3.8/site-packages/wikipedia/wikipedia.py. To get rid of this warning, pass the additional argument 'features=\"lxml\"' to the BeautifulSoup constructor.\n",
      "\n",
      "  lis = BeautifulSoup(html).find_all('li')\n"
     ]
    },
    {
     "name": "stdout",
     "output_type": "stream",
     "text": [
      "['Río Congo', 'República del Congo', 'Congo francés', 'República Popular del Congo', 'República Democrática del Congo', 'Estado Libre del Congo', 'Congo Belga', 'República del Congo', 'República de Zaire', 'Reino del Congo', 'Congo Portugués', 'Región de El Congo', 'Selva del Congo', 'Congo', 'El Congo', 'El Congo', 'Congo', 'Congo', 'Congo', 'Congo', 'Danza del congo', 'Rockcongo', 'Congo', 'Voyage au Congo', 'Congo', 'Congo', 'Edwin Congo', 'Congo', 'Mono congo', 'Volcán Congo', 'Kongo', 'Wikcionario']\n",
      "['Bartolomé de San Antonio', 'Bartolomé el Apóstol', 'San Bartolomé (parroquia)', 'San Bartolomé', 'San Bartolomé', 'San Bartolomé', 'San Bartolomé', 'San Bartolomé', 'San Bartolomé', 'San Bartolomé', 'San Bartolomé', 'San Bartolomé de Béjar', 'San Bartolomé de Corneja', 'San Bartolomé de Pinares', 'San Bartolomé de la Torre', 'San Bartolomé de las Abiertas', 'San Bartolomé de Tirajana', 'San Bartolomé del Grau', 'San Bartolomé de Rueda', 'San Bartolomé de Meruelo', 'San Bartolomé de los Montes', 'Aldeanueva de San Bartolomé', 'Cumbres de San Bartolomé', 'Riaguas de San Bartolomé', 'San Bartolomé de Tormes', 'Espinosilla de San Bartolomé', 'San Bartolomé de la Pampanga', 'San Bartolomé (Francia)', 'San Bartolomé de Jocotenango', 'San Bartolomé de Mipas Altas', 'San Bartolomé de Ayautla (Hidalgo)', 'San Bartolomé de Loxicha (Hidalgo)', 'San Bartolomé Quialana', 'San Bartolomé Yucuañe (Oaxaca)', 'San Bartolomé Zoogocho', 'San Bartolomé Aguascalientes', 'San Bartolomé', 'San Bartolomé de Huacho', 'Estadio San Bartolomé', 'San Bartolomé Club de Fútbol']\n",
      "['pueblo palestino', 'Palestina', 'Territorios Palestinos', 'Autoridad Nacional Palestina', 'Estado de Palestina', 'La Palestina', 'Palestina (São Paulo)', 'Palestina (Caldas)', 'Palestina (Huila)', 'Palestina (Costa Rica)', 'Palestina (cantón)', 'Palestina (Guatemala)', 'Palestina La Unión (Guatemala)', 'Palestina (Perú)', 'Organización para la Liberación de Palestina', 'Autoridad Nacional Palestina', 'Mandato británico de Palestina', 'Protectorado de Toda Palestina', 'Distrito militar de Palestina', 'Siria Palæstina', 'Palestina bíblica', 'Canaán', 'Club Deportivo Palestino', 'Club Social y Deportivo Central Palestino Fútbol Club', 'pañuelo palestino']\n",
      "fi Finlandia\n",
      "['Guadalupe (nombre)', 'Guadalupe Marín', 'Guadalupe Muñoz Sampedro', 'Guadalupe', 'Guadalupe Ortiz de Landázuri', 'Guadalupe Pineda', 'Guadalupe Larriva', 'Guadalupe Álvarez Luchia', 'Guadalupe Noel', 'Guadalupe Villa', 'Guadalupe Sánchez', 'Guadalupe Victoria', 'Guadalupe Salcedo', 'Guadalupe Castañeda', 'José Guadalupe Pintor', 'Luis Guadalupe', 'Washington Guadalupe', 'Guadalupe', 'Guadalupe', 'Guadalupe Norte', 'Guadalupe', 'Guadalupe', 'Guadalupe', 'Guadalupe', 'Guadalupe', 'Guadalupe', 'Guadalupe', 'río Guadalupe', 'Guadalupe', 'Real Monasterio de Nuestra Señora de Guadalupe', 'Guadalupe de Maciascoque', 'Santuario de la Virgen de Guadalupe (Fuenterrabía)', 'Guadalupe, California.', 'Guadalupe, Arizona.', 'Condado de Guadalupe, Nuevo México.', 'Condado de Guadalupe, Texas.', 'Sierra de Guadalupe, Texas.', 'Parque nacional de las Montañas de Guadalupe', 'Río Guadalupe, Texas.', 'Guadalupe de Jalpa', 'Villa de Guadalupe Hidalgo', 'Guadalupe', 'Guadalupe', 'Guadalupe', 'Guadalupe', 'Guadalupe', 'Guadalupe', 'Guadalupe', 'Guadalupe', 'Guadalupe', 'Guadalupe', 'Villa Guadalupe', 'Villa de Guadalupe', 'Villa de Guadalupe', 'Guadalupe (La Patrona)', 'Isla Guadalupe', 'Sierra de Guadalupe', 'Distrito de Guadalupe', 'Guadalupe', 'Nossa Senhora de Guadalupe', 'Guadalupe', 'Virgen de Guadalupe', 'Guadalupe', 'Basílica de Guadalupe', 'Santuario de Nuestra Señora de Guadalupe', 'Santuario Diocesano de Nuestra Señora de Guadalupe', 'Guadalupe', 'Guadalupe', 'Guadalupe', 'La rosa de Guadalupe', 'Fiesta de la Hispanidad (Guadalupe)', 'Orden de Guadalupe', 'Guadalupe', 'Estación de Sierra de Guadalupe', 'Tratado de Guadalupe Hidalgo', 'Sentencia arbitral de Guadalupe']\n",
      "['Reunión (organización)', 'Reunión Africana de Defensa de Derechos Humanos', 'Gobierno asambleario', 'Reunión en Altos de Mompié', 'Reunión de Zunyi', 'Reunión de La Mejorana', 'Reunión del paradero de Las Minas', 'Reunión (Francia)', 'Reunion (álbum de Black Sabbath)', 'Reunión (álbum de Manal)', 'Reunión en la cumbre', 'Reunion (canción de M83)', 'Conferencia web', 'Reunión (escalada)', 'Reunion (serie de televisión)', 'Wikcionario']\n",
      "['anguilas', 'anguila europea', 'anguila eléctrica', 'Anguila', 'Anguila', 'Anguilla', 'anguila', 'La anguila']\n",
      "cv\n",
      "{'file': 'cv.jpg', 'name': 'Cabo Verde'} ['in', 'ne', 'na', 'ca', 'tn', 'ck', 'gm', 'pl', 'ht', 'br', 'cg', 'cl', 'mq', 'fm', 'gn', 'ni', 'gi', 'rw', 'aq', 'zw', 'bf', 'sb', 'rs', 'bl', 'lu', 'ms', 'ar', 'al', 'mw', 'sg', 'vn', 'kg', 'gf', 'gr', 'ee', 'bo', 'tr', 'ug', 'nu', 'pk', 'ie', 'ao', 'je', 'co', 'bm', 'ir', 'mu', 'td', 'tk', 'pt', 'mg', 'sk', 'so', 'sr', 'ws', 'as', 'mx', 'tz', 'lv', 'fo', 'tj', 'cw', 'nr', 'km', 'jp', 'gg', 'kw', 'zm', 'me', 'be', 'ng', 'no', 'gy', 'il', 'lr', 'ch', 'fj', 'ua', 'lk', 'sc', 'ls', 'fr', 'id', 'bb', 'by', 'cn', 'la', 'sl', 'mv', 'es', 'bs', 'cf', 'us', 'cu', 'bg', 'ml', 'nl', 'ps', 'sn', 'mo', 'cm', 'af', 'hk', 'pa', 'ad', 'sa', 'sm', 'sz', 'pf', 'bq', 'mt', 'de', 'lc', 'hu', 'ph', 'do', 'sv', 'bw', 'li', 'tw', 'pr', 'ga', 'nf', 'dz', 'ye', 'bv', 'er', 'mh', 'pe', 'tg', 'dm', 'ki', 'gb', 'mn', 'cr', 'au', 'gu', 'tm', 'tv', 'lb', 'bj', 'aw', 'ro', 'ly', 'bd', 'sd', 'eg', 'nc', 'gt', 'gw', 'yt', 'pw', 'bn', 'mr', 'it', 'si', 'cc', 'kz', 'gl', 'pn', 'th', 'to', 'sy', 'ge', 'cv', 'gp', 'my', 'gh', 'za', 'bi', 'xk', 'eh', 'tl', 'ma', 'at', 'ru', 'am', 'hr', 'is', 'uz', 'ec', 'bz', 'fk', 'bh', 'se', 'hn', 'et', 'np', 'om', 'py', 'vu', 'lt', 'qa', 're', 'mc', 'mm', 'dj', 'mz', 'jo', 'iq', 'md', 've', 'bt', 'dk', 'az', 'ke', 'cy', 'kh', 'cz', 'gd', 'nz', 'gq', 'uy', 'ky', 'jm', 'ax']\n"
     ]
    }
   ],
   "source": [
    "wk.set_lang(\"es\")\n",
    "\n",
    "final_list=[]\n",
    "\n",
    "for i in random_list:\n",
    "    nombre_aux=flags_dirs_complete[i][\"name\"]\n",
    "    try:\n",
    "        p=wk.page(nombre_aux)\n",
    "        if p is not None:\n",
    "            final_list.append(i)\n",
    "        else:\n",
    "            #se descarta\n",
    "            print(\"vacia\",i,nombre_aux)\n",
    "            #pass\n",
    "    except wk.DisambiguationError as e:\n",
    "        print(e.options)\n",
    "        try:\n",
    "            p = wk.page(e.options[0])\n",
    "            if p is not None:\n",
    "                final_list.append(i)\n",
    "            else:\n",
    "                #se descarta\n",
    "                print(\"vacia\",i,nombre_aux)\n",
    "                #pass\n",
    "        except:\n",
    "            pass\n",
    "    except:\n",
    "        print(i,nombre_aux)\n",
    "        #se descarta porque no tiene pagina de wiki\n",
    "        #pass  \n",
    "\n",
    "\n",
    "\n",
    "pais_random=final_list[np.random.randint(0,len(final_list))]\n",
    "print(pais_random)\n",
    "\n",
    "#vamos a la lista completa y sacamos la bandera y el nombre\n",
    "print(flags_dirs_complete[pais_random],final_list)\n"
   ]
  },
  {
   "cell_type": "code",
   "execution_count": 6,
   "id": "3884e594",
   "metadata": {},
   "outputs": [],
   "source": [
    "with open(\"codigos_paises_con_wiki.txt\",\"w\") as fil:\n",
    "    for i in final_list:\n",
    "        fil.write(i)\n",
    "        fil.write(\"\\n\")"
   ]
  },
  {
   "cell_type": "code",
   "execution_count": 30,
   "id": "0a6fba99",
   "metadata": {},
   "outputs": [],
   "source": [
    "#se define el bot\n",
    "KEY=\"5125128580:AAEfu8BO-mJvYYOI2hX8C8wo-EDF1AhqioA\"\n",
    "bot = telebot.TeleBot(KEY, parse_mode=None) # You can set parse_mode by default. HTML or MARKDOWN\n",
    "\n",
    "\n",
    "#variables para el proceso (si estamos jugando, o con una pista o que )\n",
    "NO_HAY_JUEGO=True\n",
    "\n",
    "\n",
    "#FUNCIONES\n",
    "\n",
    "def resolver(palabra,guess):\n",
    "    final=\"\"\n",
    "    aux=[True if i in guess.lower() else False for i in palabra.lower()]\n",
    "    for i,letra in enumerate(palabra):\n",
    "        if aux[i]:\n",
    "            final+=f\" {letra} \"\n",
    "        else:\n",
    "            final+=\" _ \"\n",
    "    \n",
    "    return final\n",
    "\n",
    "#empieza el juego e informamos de lo que va \n",
    "    \n",
    "@bot.message_handler(commands=[\"start\"])\n",
    "def start(message):\n",
    "    global idioma\n",
    "    idioma=\"es\"\n",
    "    global NO_HAY_JUEGO\n",
    "    NO_HAY_JUEGO=True\n",
    "    #deberíamos permitir que se seleccione el idioma\n",
    "    #bot.send_message(message.chat.id,\"Select the lenguage (elige el idioma).\")\n",
    "    #esto para después....\n",
    "    \n",
    "    #mensaje de bienvenida\n",
    "    bot.send_message(message.chat.id, \"Esto es FLAGGLE, un juego donde tienes que adivinar el pais que corresponde\\\n",
    "    con la bandera. Tendrás 3 pistas en caso de que sea muy dificil (pero cada pista restará puntos):\\n\\n\\\n",
    " -La primera pista es el número de letras (contando espacios en blanco) que tiene el nombre del país.\\n\\\n",
    " -La segunda es la primera letra.\\n-Y la tercerá será un extracto de la wikipedia del país.\\n\\n\\n\\\n",
    " Cuando quieras comenzar simplemente pidelo con educación, y empezamos.\")\n",
    "    \n",
    "    \n",
    "#ahora tenemos que esperar a que nos pida empezar \n",
    "def empezar(message):\n",
    "    #comprobamos tanto si lo pide por favor como si no se ha empezado aun\n",
    "    pedido_por_favor=((\"por favor\" in message.text.lower()) | (\"porfavor\" in message.text.lower())|\n",
    "                      (\"porfa\"in message.text.lower()))\n",
    "    global NO_HAY_JUEGO\n",
    "    if (NO_HAY_JUEGO & pedido_por_favor):\n",
    "        NO_HAY_JUEGO=False\n",
    "        return True\n",
    "    elif NO_HAY_JUEGO:\n",
    "        bot.send_message(message.chat.id,\"Di la palabra mágica\")\n",
    "        return False\n",
    "    else:\n",
    "        #bot.send_message(message.chat.id,\"Estas jugando ya. Si quieres reiniciar el juego escribe /start\")\n",
    "        return False\n",
    "        \n",
    "    \n",
    "\n",
    "@bot.message_handler(func=empezar)\n",
    "def empezar2(message):\n",
    "    #ahora que entra dentro, podemos enviar el mensaje con la bandera y dar las opciones de \n",
    "    #respuesta\n",
    "    global pais\n",
    "    pais=final_list[np.random.randint(0,len(final_list))]\n",
    "    photo = open(f\"./flags/{flags_dirs_complete[pais]['file']}\", 'rb')\n",
    "    bot.send_photo(message.chat.id, photo)\n",
    "    photo.close()\n",
    "    bot.send_message(message.chat.id, \"Tienes que adivinar de que país es esta bandera.\") \n",
    "    print(pais)\n",
    "    bot.send_message(message.chat.id,wk.page(flags_dirs_complete[pais][\"name\"]).summary.split(\"\\n\")[0].replace(flags_dirs_complete[pais][\"name\"],\"_______\"))\n",
    "    #bot.send_message(message.chat.id, \"¿Comodines?\", reply_markup=markup)    \n",
    "\n",
    "def acierto(message):\n",
    "    #veamos si estamos adivinando\n",
    "    if not NO_HAY_JUEGO:\n",
    "        #entonces eelegible para adivinarse\n",
    "        return True\n",
    "    else:\n",
    "        return False\n",
    "    \n",
    "    \n",
    "#ahora queremos ver si ha acertado\n",
    "@bot.message_handler(func=acierto)\n",
    "def acierto2(message):\n",
    "    global respuesta\n",
    "    respuesta=message.text\n",
    "    nombre_completo_pais=flags_dirs_complete[pais]['name']\n",
    "    if (respuesta.lower() in nombre_completo_pais.lower()) or (nombre_completo_pais.lower() in respuesta.lower()): \n",
    "        bot.send_message(message.chat.id, f\"MUY BIEN!!! Lo has hecho genial, \\n eres super listo!!! el pais era {nombre_completo_pais}\" )  \n",
    "        NO_HAY_JUEGO=True\n",
    "    else:\n",
    "        bot.send_message(message.chat.id, f\"Lo siento pero NO!!\\n{resolver(nombre_completo_pais, respuesta)}\")  \n",
    "        \n"
   ]
  },
  {
   "cell_type": "code",
   "execution_count": 31,
   "id": "81f9513e",
   "metadata": {},
   "outputs": [
    {
     "name": "stdout",
     "output_type": "stream",
     "text": [
      "td\n",
      "ye\n"
     ]
    },
    {
     "name": "stderr",
     "output_type": "stream",
     "text": [
      "2022-04-12 21:53:37,557 (__init__.py:621 MainThread) ERROR - TeleBot: \"Infinity polling: polling exited\"\n",
      "2022-04-12 21:53:37,558 (__init__.py:623 MainThread) ERROR - TeleBot: \"Break infinity polling\"\n"
     ]
    }
   ],
   "source": [
    "bot.infinity_polling()"
   ]
  },
  {
   "cell_type": "code",
   "execution_count": 13,
   "id": "71e99c34",
   "metadata": {},
   "outputs": [],
   "source": [
    "a=\"asdfg\".strip()"
   ]
  },
  {
   "cell_type": "code",
   "execution_count": 15,
   "id": "a9676df4",
   "metadata": {},
   "outputs": [
    {
     "data": {
      "text/plain": [
       "['s', 's', 's', 's', 's']"
      ]
     },
     "execution_count": 15,
     "metadata": {},
     "output_type": "execute_result"
    }
   ],
   "source": [
    "[a[i] for i in [True,True,True,True,True] if i]"
   ]
  },
  {
   "cell_type": "code",
   "execution_count": 17,
   "id": "19933645",
   "metadata": {},
   "outputs": [],
   "source": []
  },
  {
   "cell_type": "code",
   "execution_count": 18,
   "id": "87b36d82",
   "metadata": {},
   "outputs": [
    {
     "ename": "IndexError",
     "evalue": "too many indices for array: array is 0-dimensional, but 1 were indexed",
     "output_type": "error",
     "traceback": [
      "\u001b[0;31m---------------------------------------------------------------------------\u001b[0m",
      "\u001b[0;31mIndexError\u001b[0m                                Traceback (most recent call last)",
      "\u001b[0;32m/tmp/ipykernel_23239/3498315158.py\u001b[0m in \u001b[0;36m<module>\u001b[0;34m\u001b[0m\n\u001b[0;32m----> 1\u001b[0;31m \u001b[0ma\u001b[0m\u001b[0;34m[\u001b[0m\u001b[0;34m[\u001b[0m\u001b[0;32mTrue\u001b[0m\u001b[0;34m,\u001b[0m\u001b[0;32mTrue\u001b[0m\u001b[0;34m,\u001b[0m\u001b[0;32mTrue\u001b[0m\u001b[0;34m,\u001b[0m\u001b[0;32mTrue\u001b[0m\u001b[0;34m,\u001b[0m\u001b[0;32mTrue\u001b[0m\u001b[0;34m]\u001b[0m\u001b[0;34m]\u001b[0m\u001b[0;34m\u001b[0m\u001b[0;34m\u001b[0m\u001b[0m\n\u001b[0m",
      "\u001b[0;31mIndexError\u001b[0m: too many indices for array: array is 0-dimensional, but 1 were indexed"
     ]
    }
   ],
   "source": [
    "a[[True,True,True,True,True]]"
   ]
  },
  {
   "cell_type": "code",
   "execution_count": null,
   "id": "9a4b56cc",
   "metadata": {},
   "outputs": [],
   "source": []
  },
  {
   "cell_type": "code",
   "execution_count": null,
   "id": "87e00eba",
   "metadata": {},
   "outputs": [],
   "source": []
  },
  {
   "cell_type": "code",
   "execution_count": null,
   "id": "c636605c",
   "metadata": {},
   "outputs": [],
   "source": []
  },
  {
   "cell_type": "code",
   "execution_count": null,
   "id": "37db782c",
   "metadata": {},
   "outputs": [],
   "source": []
  },
  {
   "cell_type": "code",
   "execution_count": null,
   "id": "9523cbfb",
   "metadata": {},
   "outputs": [],
   "source": []
  },
  {
   "cell_type": "code",
   "execution_count": null,
   "id": "853cca3b",
   "metadata": {},
   "outputs": [],
   "source": []
  },
  {
   "cell_type": "code",
   "execution_count": null,
   "id": "28fb4cbb",
   "metadata": {},
   "outputs": [],
   "source": []
  }
 ],
 "metadata": {
  "kernelspec": {
   "display_name": "Python 3.8.11 64-bit ('env1': conda)",
   "language": "python",
   "name": "python3811jvsc74a57bd0a2d51eeffc2c120f5031b7bde6ffb008145a35a68e4bb66d0d15300374e07605"
  },
  "language_info": {
   "codemirror_mode": {
    "name": "ipython",
    "version": 3
   },
   "file_extension": ".py",
   "mimetype": "text/x-python",
   "name": "python",
   "nbconvert_exporter": "python",
   "pygments_lexer": "ipython3",
   "version": "3.8.11"
  }
 },
 "nbformat": 4,
 "nbformat_minor": 5
}
